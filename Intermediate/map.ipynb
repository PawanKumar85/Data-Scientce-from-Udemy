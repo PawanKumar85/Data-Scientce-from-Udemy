{
 "cells": [
  {
   "cell_type": "code",
   "execution_count": 9,
   "id": "796adceb",
   "metadata": {},
   "outputs": [
    {
     "name": "stdout",
     "output_type": "stream",
     "text": [
      "[1, 4, 9, 16, 25]\n"
     ]
    }
   ],
   "source": [
    "nums = [1,2,3,4,5]\n",
    "squares = list(map(lambda x:x**2,nums))\n",
    "\n",
    "print(squares)"
   ]
  },
  {
   "cell_type": "code",
   "execution_count": 17,
   "id": "bf7be0af",
   "metadata": {},
   "outputs": [
    {
     "name": "stdout",
     "output_type": "stream",
     "text": [
      "['APPLE', 'BOYS', 'CAT', 'DOG']\n",
      "['apple']\n",
      "120\n"
     ]
    }
   ],
   "source": [
    "# map()\n",
    "text = [\"apple\",\"boys\",\"cat\",\"dog\"]\n",
    "uppercase = list(map(lambda x : x.upper(),text))\n",
    "print(uppercase)\n",
    "\n",
    "# filter()\n",
    "has_len4 = list(filter(lambda x: len(x) > 4,text))\n",
    "print(has_len4)\n",
    "\n",
    "# reduce()\n",
    "from functools import reduce\n",
    "num = [1,2,3,4,5]\n",
    "product = reduce(lambda x,y : x * y,num)\n",
    "print(product)\n"
   ]
  },
  {
   "cell_type": "code",
   "execution_count": null,
   "id": "097b462b",
   "metadata": {},
   "outputs": [],
   "source": []
  },
  {
   "cell_type": "code",
   "execution_count": null,
   "id": "806078e9",
   "metadata": {},
   "outputs": [],
   "source": []
  }
 ],
 "metadata": {
  "kernelspec": {
   "display_name": "Python 3",
   "language": "python",
   "name": "python3"
  },
  "language_info": {
   "codemirror_mode": {
    "name": "ipython",
    "version": 3
   },
   "file_extension": ".py",
   "mimetype": "text/x-python",
   "name": "python",
   "nbconvert_exporter": "python",
   "pygments_lexer": "ipython3",
   "version": "3.12.1"
  }
 },
 "nbformat": 4,
 "nbformat_minor": 5
}
