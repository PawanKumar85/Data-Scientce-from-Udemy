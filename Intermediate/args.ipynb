{
 "cells": [
  {
   "cell_type": "code",
   "execution_count": 4,
   "id": "8976daec",
   "metadata": {},
   "outputs": [
    {
     "name": "stdout",
     "output_type": "stream",
     "text": [
      "(1, 2, 3, 4, 5)\n",
      "15\n"
     ]
    }
   ],
   "source": [
    "def add_all(*args):\n",
    "    print(args)\n",
    "    return sum(args)\n",
    "\n",
    "print(add_all(1,2,3,4,5))"
   ]
  },
  {
   "cell_type": "code",
   "execution_count": 5,
   "id": "3aab7acd",
   "metadata": {},
   "outputs": [
    {
     "name": "stdout",
     "output_type": "stream",
     "text": [
      "name : Pawan\n",
      "age : 23\n",
      "lang : Python\n"
     ]
    }
   ],
   "source": [
    "def show_details(**kwargs):\n",
    "    for key,val in kwargs.items():\n",
    "        print(f\"{key} : {val}\")\n",
    "        \n",
    "show_details(name=\"Pawan\", age=23, lang=\"Python\")"
   ]
  },
  {
   "cell_type": "code",
   "execution_count": 6,
   "id": "6c3924de",
   "metadata": {},
   "outputs": [
    {
     "name": "stdout",
     "output_type": "stream",
     "text": [
      "Arg1 : start\n",
      "Args : (10, 20, 30)\n",
      "name : Pawan\n",
      "age : 23\n"
     ]
    }
   ],
   "source": [
    "def flex(arg1,*arg,**kwargs):\n",
    "    print(f\"Arg1 : {arg1}\")\n",
    "    print(f\"Args : {arg}\")\n",
    "    for key,val in kwargs.items():\n",
    "        print(f\"{key} : {val}\")\n",
    "        \n",
    "flex(\"start\", 10, 20, 30, name=\"Pawan\", age=23)"
   ]
  },
  {
   "cell_type": "code",
   "execution_count": 8,
   "id": "fa613b7f",
   "metadata": {},
   "outputs": [
    {
     "name": "stdout",
     "output_type": "stream",
     "text": [
      "Name : Pawan Kumar\n",
      "Skills: Python, C++, JS\n",
      "age : 23\n",
      "experience : 1 year\n"
     ]
    }
   ],
   "source": [
    "def resume_builder(name,*args,**kwargs):\n",
    "    print(f\"Name : {name}\")\n",
    "    print(\"Skills:\", \", \".join(args))\n",
    "    for key,val in kwargs.items():\n",
    "        print(f\"{key} : {val}\")\n",
    "        \n",
    "resume_builder(\"Pawan Kumar\",\"Python\",\"C++\",\"JS\",age = 23, experience = \"1 year\")"
   ]
  }
 ],
 "metadata": {
  "kernelspec": {
   "display_name": "Python 3",
   "language": "python",
   "name": "python3"
  },
  "language_info": {
   "codemirror_mode": {
    "name": "ipython",
    "version": 3
   },
   "file_extension": ".py",
   "mimetype": "text/x-python",
   "name": "python",
   "nbconvert_exporter": "python",
   "pygments_lexer": "ipython3",
   "version": "3.12.1"
  }
 },
 "nbformat": 4,
 "nbformat_minor": 5
}
