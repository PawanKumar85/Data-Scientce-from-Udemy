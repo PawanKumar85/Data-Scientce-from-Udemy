{
 "cells": [
  {
   "cell_type": "code",
   "execution_count": 1,
   "id": "8524db94",
   "metadata": {},
   "outputs": [
    {
     "name": "stdout",
     "output_type": "stream",
     "text": [
      "9\n"
     ]
    }
   ],
   "source": [
    "add = lambda a,b: a + b\n",
    "print(add(5,4))"
   ]
  },
  {
   "cell_type": "code",
   "execution_count": 2,
   "id": "44e9bb72",
   "metadata": {},
   "outputs": [
    {
     "name": "stdout",
     "output_type": "stream",
     "text": [
      "16\n"
     ]
    }
   ],
   "source": [
    "sqr = lambda x: x**2\n",
    "print(sqr(4))"
   ]
  },
  {
   "cell_type": "code",
   "execution_count": 4,
   "id": "be6dec40",
   "metadata": {},
   "outputs": [
    {
     "name": "stdout",
     "output_type": "stream",
     "text": [
      "[('Pawan', 90), ('Aisha', 78), ('Rahul', 92)]\n"
     ]
    }
   ],
   "source": [
    "students = [(\"Pawan\", 90), (\"Aisha\", 78), (\"Rahul\", 92)]\n",
    "sorted_student = sorted(students,key=lambda x:[1])\n",
    "print(sorted_student)"
   ]
  },
  {
   "cell_type": "code",
   "execution_count": 9,
   "id": "9923cf63",
   "metadata": {},
   "outputs": [
    {
     "name": "stdout",
     "output_type": "stream",
     "text": [
      "2\n",
      "[('Charlie', 20), ('Alice', 25), ('Diana', 28), ('Bob', 30)]\n",
      "[1, 4, 9, 16, 25]\n"
     ]
    }
   ],
   "source": [
    "# Create a lambda function that takes 2 arguments and returns the maximum of the two.\n",
    "max = lambda a,b: a if a > b else b\n",
    "print(max(1,2))\n",
    "\n",
    "# Use lambda inside sorted() to sort a list of (name, age) by age\n",
    "people = [(\"Alice\", 25), (\"Bob\", 30), (\"Charlie\", 20), (\"Diana\", 28)]\n",
    "sorted_people = sorted(people, key=lambda person: person[1])\n",
    "print(sorted_people)\n",
    "\n",
    "# Use lambda + map() to convert a list of numbers to their square\n",
    "numbers = [1, 2, 3, 4, 5]\n",
    "squares = list(map(lambda x: x**2, numbers))\n",
    "print(squares)\n"
   ]
  },
  {
   "cell_type": "code",
   "execution_count": null,
   "id": "262decd7",
   "metadata": {},
   "outputs": [],
   "source": []
  }
 ],
 "metadata": {
  "kernelspec": {
   "display_name": "Python 3",
   "language": "python",
   "name": "python3"
  },
  "language_info": {
   "codemirror_mode": {
    "name": "ipython",
    "version": 3
   },
   "file_extension": ".py",
   "mimetype": "text/x-python",
   "name": "python",
   "nbconvert_exporter": "python",
   "pygments_lexer": "ipython3",
   "version": "3.12.1"
  }
 },
 "nbformat": 4,
 "nbformat_minor": 5
}
