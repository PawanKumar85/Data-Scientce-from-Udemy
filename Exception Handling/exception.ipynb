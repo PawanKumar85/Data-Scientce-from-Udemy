{
 "cells": [
  {
   "cell_type": "markdown",
   "id": "bfe8c7c9",
   "metadata": {},
   "source": [
    "# Exception Handling\n",
    "- Sometimes things go wrong — like file not found, permission denied, etc.\n",
    "- We use `try-except` to prevent crashing and handle the error gracefully."
   ]
  },
  {
   "cell_type": "code",
   "execution_count": 4,
   "id": "bea6d9b9",
   "metadata": {},
   "outputs": [
    {
     "name": "stdout",
     "output_type": "stream",
     "text": [
      "Something went wrong!\n"
     ]
    }
   ],
   "source": [
    "#  Basic Syntax\n",
    "try:\n",
    "    file = open(\"file.txt\", \"r\")\n",
    "except:\n",
    "     print(\"Something went wrong!\")\n"
   ]
  },
  {
   "cell_type": "code",
   "execution_count": 3,
   "id": "b10ebf06",
   "metadata": {},
   "outputs": [
    {
     "name": "stdout",
     "output_type": "stream",
     "text": [
      "File not found\n"
     ]
    }
   ],
   "source": [
    "# Better Version (Specific Error)\n",
    "try:\n",
    "    file = open(\"file.txt\",\"r\")\n",
    "except FileNotFoundError:\n",
    "    print(\"File not found\")\n",
    "except PermissionError:\n",
    "    print(\"You don’t have permission to open this file\")\n",
    "except Exception as e:\n",
    "    print(f\"Error: {e}\")"
   ]
  },
  {
   "cell_type": "markdown",
   "id": "525418a4",
   "metadata": {},
   "source": [
    "## Common File Exceptions\n",
    "\n",
    "| Exception              | When it Happens                                            |\n",
    "| ---------------------- | ---------------------------------------------------------- |\n",
    "| `FileNotFoundError`    | File doesn’t exist (in read mode) ❌                        |\n",
    "| `PermissionError`      | You don’t have access 🔒                                   |\n",
    "| `IsADirectoryError`    | Trying to open a folder like a file 📁❌                    |\n",
    "| `IOError`              | General file I/O error 🧠                                  |\n",
    "| `OSError`              | OS-related error (e.g. path too long) 🖥️                  |\n",
    "| `ValueError`           | Invalid value (e.g. wrong mode) ⚠️                         |\n",
    "| `UnsupportedOperation` | Using an invalid operation (e.g., writing in `'r'` mode) ❗ |\n"
   ]
  },
  {
   "cell_type": "code",
   "execution_count": 8,
   "id": "7a48b96c",
   "metadata": {},
   "outputs": [
    {
     "name": "stdout",
     "output_type": "stream",
     "text": [
      "File not found.\n"
     ]
    }
   ],
   "source": [
    "try:\n",
    "    with open(\"file.txt\",\"r\") as f:\n",
    "        for line in f:\n",
    "            print(line.strip())\n",
    "except FileNotFoundError:\n",
    "    print(\"File not found.\")\n",
    "except PermissionError:\n",
    "    print(\"Permission denied\")\n",
    "except Exception as e:\n",
    "    print(f\"Error:{e}\")"
   ]
  },
  {
   "cell_type": "code",
   "execution_count": null,
   "id": "d4578eba",
   "metadata": {},
   "outputs": [],
   "source": []
  }
 ],
 "metadata": {
  "kernelspec": {
   "display_name": "Python 3",
   "language": "python",
   "name": "python3"
  },
  "language_info": {
   "codemirror_mode": {
    "name": "ipython",
    "version": 3
   },
   "file_extension": ".py",
   "mimetype": "text/x-python",
   "name": "python",
   "nbconvert_exporter": "python",
   "pygments_lexer": "ipython3",
   "version": "3.12.1"
  }
 },
 "nbformat": 4,
 "nbformat_minor": 5
}
