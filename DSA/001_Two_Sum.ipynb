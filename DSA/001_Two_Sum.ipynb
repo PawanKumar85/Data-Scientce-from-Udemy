{
 "cells": [
  {
   "cell_type": "code",
   "execution_count": 12,
   "id": "b9958a79",
   "metadata": {},
   "outputs": [
    {
     "name": "stdout",
     "output_type": "stream",
     "text": [
      "[0, 1]\n"
     ]
    }
   ],
   "source": [
    "# 1. Two Sum\n",
    "import numpy as np\n",
    "\n",
    "class Solution:\n",
    "    \n",
    "    def twoSum(self,nums,target):\n",
    "        index_mp = {}\n",
    "        for i,num in enumerate(nums):\n",
    "            diff = target - num;     \n",
    "            for diff in index_mp:\n",
    "                return [index_mp[diff],i]\n",
    "            index_mp[num] = i\n",
    "        \n",
    "sol = Solution()\n",
    "result = sol.twoSum([3, 2, 4], 6)\n",
    "print(result)"
   ]
  },
  {
   "cell_type": "code",
   "execution_count": null,
   "id": "d9ac3e80",
   "metadata": {},
   "outputs": [],
   "source": []
  }
 ],
 "metadata": {
  "kernelspec": {
   "display_name": "Python 3",
   "language": "python",
   "name": "python3"
  },
  "language_info": {
   "codemirror_mode": {
    "name": "ipython",
    "version": 3
   },
   "file_extension": ".py",
   "mimetype": "text/x-python",
   "name": "python",
   "nbconvert_exporter": "python",
   "pygments_lexer": "ipython3",
   "version": "3.12.1"
  }
 },
 "nbformat": 4,
 "nbformat_minor": 5
}
