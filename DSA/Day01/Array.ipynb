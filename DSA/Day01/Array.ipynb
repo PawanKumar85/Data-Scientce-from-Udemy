{
 "cells": [
  {
   "cell_type": "markdown",
   "id": "ed33f25b",
   "metadata": {},
   "source": [
    "## 🎯 Problem 1: Reverse an Array"
   ]
  },
  {
   "cell_type": "code",
   "execution_count": null,
   "id": "73427271",
   "metadata": {},
   "outputs": [
    {
     "name": "stdout",
     "output_type": "stream",
     "text": [
      "[5 4 3 2 1] <class 'numpy.ndarray'>\n"
     ]
    }
   ],
   "source": [
    "import numpy as np\n",
    "\n",
    "def reverseArray(arr):\n",
    "    return arr[::-1]\n",
    "\n",
    "list = [1,2,3,4,5]\n",
    "arr = np.array(list)\n",
    "print(reverseArray(arr))"
   ]
  },
  {
   "cell_type": "markdown",
   "id": "b3ae8648",
   "metadata": {},
   "source": [
    "## 🎯 Problem 2: Find the Maximum Element"
   ]
  },
  {
   "cell_type": "code",
   "execution_count": null,
   "id": "e3de3ad4",
   "metadata": {},
   "outputs": [
    {
     "name": "stdout",
     "output_type": "stream",
     "text": [
      "Max in Array : 10\n",
      "Max in Array : 10\n"
     ]
    }
   ],
   "source": [
    "import numpy as np\n",
    "\n",
    "def findMax(arr):\n",
    "    max_val = arr[0]\n",
    "    for val in arr:\n",
    "        if val > max_val:\n",
    "            max_val = val\n",
    "    return max_val \n",
    "\n",
    "list = [4, 8, 2, 10, 5]\n",
    "arr = np.array(list)\n",
    "print(\"Max in Array :\",arr.max())\n"
   ]
  },
  {
   "cell_type": "markdown",
   "id": "774d7c8f",
   "metadata": {},
   "source": [
    "## ✍️ Homework / Practice (Try these)\n",
    "1. Sum of elements in array\n",
    "2. Count even and odd numbers\n",
    "3. Check if array is sorted\n",
    "4. Second largest element"
   ]
  },
  {
   "cell_type": "code",
   "execution_count": null,
   "id": "e477dbe3",
   "metadata": {},
   "outputs": [
    {
     "name": "stdout",
     "output_type": "stream",
     "text": [
      "150 \n",
      " 150\n"
     ]
    }
   ],
   "source": [
    "# 1. Problem\n",
    "import numpy as np\n",
    "\n",
    "def findSum(arr):\n",
    "    return sum(arr)\n",
    "\n",
    "list = [10,20,30,40,50]\n",
    "arr = np.array(list)\n",
    "print(arr.sum(),\"\\n\",findSum(arr))   # Using Numpy # Using Logic"
   ]
  },
  {
   "cell_type": "code",
   "execution_count": null,
   "id": "6cb0b0e8",
   "metadata": {},
   "outputs": [
    {
     "name": "stdout",
     "output_type": "stream",
     "text": [
      "{'even': 2, 'odd': 3}\n"
     ]
    }
   ],
   "source": [
    "# 2. Problem\n",
    "\n",
    "import numpy as np\n",
    "\n",
    "def countEvenOdd(arr):\n",
    "    count = {\"even\" : 0,\"odd\" : 0}\n",
    "    for val in arr:\n",
    "        if val % 2 == 0:\n",
    "            count[\"even\"] += 1\n",
    "        else:\n",
    "            count[\"odd\"] += 1\n",
    "    return count\n",
    "\n",
    "numbers = [1,2,3,4,5]\n",
    "arr = np.array(numbers)\n",
    "print(countEvenOdd(arr))"
   ]
  },
  {
   "cell_type": "code",
   "execution_count": null,
   "id": "dd8e1f28",
   "metadata": {},
   "outputs": [
    {
     "name": "stdout",
     "output_type": "stream",
     "text": [
      "False\n"
     ]
    }
   ],
   "source": [
    "# 3. Problem\n",
    "import numpy as np\n",
    "\n",
    "def isSorted(arr):\n",
    "    for i in range(len(arr) - 1):\n",
    "        if arr[i] > arr[i + 1]:\n",
    "            return False\n",
    "    return True\n",
    "\n",
    "numbers = [3,5,7,9,1,2]\n",
    "arr = np.array(numbers)\n",
    "print(isSorted(arr))"
   ]
  },
  {
   "cell_type": "code",
   "execution_count": null,
   "id": "1bea6ac0",
   "metadata": {},
   "outputs": [
    {
     "name": "stdout",
     "output_type": "stream",
     "text": [
      "7\n"
     ]
    }
   ],
   "source": [
    "# 4. Second Largest element\n",
    "import numpy as np\n",
    "\n",
    "def findSecondLarget(arr):\n",
    "    return sorted(arr)[-2]\n",
    "\n",
    "numbers = [3,5,7,9,1,2]\n",
    "arr = np.array(numbers)\n",
    "print(findSecondLarget(arr))"
   ]
  },
  {
   "cell_type": "markdown",
   "id": "a49683be",
   "metadata": {},
   "source": [
    "# 🔎 Searching in an Array\n",
    "1. Linear Search\n",
    "2. Binary Search"
   ]
  },
  {
   "cell_type": "code",
   "execution_count": null,
   "id": "878d9da2",
   "metadata": {},
   "outputs": [
    {
     "name": "stdout",
     "output_type": "stream",
     "text": [
      "True\n"
     ]
    }
   ],
   "source": [
    "# Linear Search\n",
    "import numpy as np\n",
    "\n",
    "def linearSearch(arr,target):\n",
    "    return target in arr\n",
    "\n",
    "num = [3, 6, 8, 12]\n",
    "arr = np.array(num)\n",
    "print(linearSearch(arr,8))"
   ]
  },
  {
   "cell_type": "code",
   "execution_count": 31,
   "id": "a690c22a",
   "metadata": {},
   "outputs": [
    {
     "name": "stdout",
     "output_type": "stream",
     "text": [
      "1\n"
     ]
    }
   ],
   "source": [
    "# Binary Search\n",
    "import numpy as np\n",
    "\n",
    "def binarySearch(arr,target):\n",
    "    start = 0\n",
    "    end = len(arr) - 1\n",
    "    \n",
    "    while start <= end:\n",
    "        mid = (start + end) // 2\n",
    "        \n",
    "        if arr[mid] == target:\n",
    "            return mid\n",
    "        elif arr[mid] < target:\n",
    "            start = mid + 1\n",
    "        else:\n",
    "            end = mid - 1\n",
    "    \n",
    "    return -1\n",
    "\n",
    "arr = np.array([2, 4, 6, 8, 10])\n",
    "print(binarySearch(arr,4))"
   ]
  },
  {
   "cell_type": "code",
   "execution_count": 37,
   "id": "532afaa9",
   "metadata": {},
   "outputs": [
    {
     "name": "stdout",
     "output_type": "stream",
     "text": [
      "1\n"
     ]
    }
   ],
   "source": [
    "# Binary search using Recursion\n",
    "import numpy as np\n",
    "\n",
    "def binarySearchRecursive(arr, target, start, end):\n",
    "    if start > end:\n",
    "        return -1\n",
    "    mid = (start + end) // 2\n",
    "    if arr[mid] == target:\n",
    "        return mid\n",
    "    elif arr[mid] < target:\n",
    "        return binarySearchRecursive(arr, target, mid + 1, end)\n",
    "    else:\n",
    "        return binarySearchRecursive(arr, target, start, mid - 1)\n",
    "\n",
    "arr = np.array([2, 4, 6, 8, 10])\n",
    "print(binarySearchRecursive(arr, 4, 0, len(arr) - 1))"
   ]
  },
  {
   "cell_type": "markdown",
   "id": "cd1754f6",
   "metadata": {},
   "source": [
    "# Problems:\n",
    "\n",
    "1. Find First Occurrence of an Element\n",
    "2. Count Occurrences of Target\n",
    "3. Find All Indices of Target\n",
    "4. Search in Descending Sorted Array (Binary Search Variant)\n",
    "5. Search Insert Position (Where element should be inserted if not found)\n",
    "6. Is Target a Perfect Square (Binary Search Style)  "
   ]
  },
  {
   "cell_type": "code",
   "execution_count": 39,
   "id": "cc3c6697",
   "metadata": {},
   "outputs": [
    {
     "name": "stdout",
     "output_type": "stream",
     "text": [
      "2\n"
     ]
    }
   ],
   "source": [
    "# Problem : 1\n",
    "import numpy as np\n",
    "\n",
    "def findFirstOcc(arr,target):\n",
    "    for i in range(len(arr)):\n",
    "        if arr[i] == target:\n",
    "            return i\n",
    "    return -1\n",
    "\n",
    "arr = [1, 2, 3, 4, 3, 2, 1]\n",
    "arr = np.array(arr)\n",
    "print(findFirstOcc(arr,3))"
   ]
  },
  {
   "cell_type": "code",
   "execution_count": null,
   "id": "da2b45d8",
   "metadata": {},
   "outputs": [
    {
     "name": "stdout",
     "output_type": "stream",
     "text": [
      "3\n"
     ]
    }
   ],
   "source": [
    "# Problem : 2\n",
    "def countTarget(arr,target):\n",
    "    return sum(1 for x in arr if x == target)\n",
    "\n",
    "arr = [2, 3, 4, 3, 3]\n",
    "arr = np.array(arr)\n",
    "print(countTarget(arr,3))"
   ]
  },
  {
   "cell_type": "code",
   "execution_count": null,
   "id": "ddebf9c3",
   "metadata": {},
   "outputs": [
    {
     "name": "stdout",
     "output_type": "stream",
     "text": [
      "[1, 3]\n"
     ]
    }
   ],
   "source": [
    "# Problem : 3\n",
    "def findAllIndex(arr,target):\n",
    "    count = {\"target\": []}\n",
    "    for i, val in enumerate(arr):\n",
    "        if val == target:\n",
    "            count[\"target\"].append(i)\n",
    "    return count[\"target\"]\n",
    "    \n",
    "arr = np.array([1, 2, 3, 2, 4])\n",
    "print(findAllIndex(arr, 2))"
   ]
  },
  {
   "cell_type": "code",
   "execution_count": 48,
   "id": "a91b464d",
   "metadata": {},
   "outputs": [
    {
     "name": "stdout",
     "output_type": "stream",
     "text": [
      "2\n"
     ]
    }
   ],
   "source": [
    "# Problem : 4\n",
    "import numpy as np\n",
    "\n",
    "def binary_search_desc(arr,target):\n",
    "    left, right = 0, len(arr)-1\n",
    "    while left <= right:\n",
    "        mid = (left + right) // 2\n",
    "        if arr[mid] == target:\n",
    "            return mid\n",
    "        elif arr[mid] > target:\n",
    "            left = mid + 1\n",
    "        else:\n",
    "            right = mid - 1\n",
    "    return -1\n",
    "\n",
    "arr = np.array([100, 90, 80, 70])\n",
    "print(binary_search_desc(arr,80))"
   ]
  },
  {
   "cell_type": "code",
   "execution_count": null,
   "id": "d5c051da",
   "metadata": {},
   "outputs": [],
   "source": []
  }
 ],
 "metadata": {
  "kernelspec": {
   "display_name": "Python 3",
   "language": "python",
   "name": "python3"
  },
  "language_info": {
   "codemirror_mode": {
    "name": "ipython",
    "version": 3
   },
   "file_extension": ".py",
   "mimetype": "text/x-python",
   "name": "python",
   "nbconvert_exporter": "python",
   "pygments_lexer": "ipython3",
   "version": "3.12.1"
  }
 },
 "nbformat": 4,
 "nbformat_minor": 5
}
