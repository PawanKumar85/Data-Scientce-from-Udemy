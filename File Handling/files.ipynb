{
 "cells": [
  {
   "cell_type": "markdown",
   "id": "5110769c",
   "metadata": {},
   "source": [
    "# 📁 File Handling\n",
    "\n",
    "- It means opening, reading, writing, appending, or deleting files using Python.\n",
    "\n",
    "## Opening a file\n",
    "```bash\n",
    "file = open(\"notes.txt\",\"mode\")\n",
    "```\n",
    "\n",
    "| Mode  | What it does             |\n",
    "| ----- | ------------------------ |\n",
    "| `'r'` | Read (default)           |\n",
    "| `'w'` | Write (overwrite)        |\n",
    "| `'a'` | Append (add at end)      |\n",
    "| `'x'` | Create (error if exists) |\n",
    "| `'b'` | Binary mode              |\n",
    "| `'t'` | Text mode (default)      |\n"
   ]
  },
  {
   "cell_type": "code",
   "execution_count": 11,
   "id": "86b813b9",
   "metadata": {},
   "outputs": [
    {
     "name": "stdout",
     "output_type": "stream",
     "text": [
      "# What is File Handling?\n",
      "- It means opening, reading, writing, appending, or deleting files using Python.\n",
      "- You use it when you want your program to store data permanently, like in .txt, .csv, .json, etc.\n",
      "\n",
      "# You can use Python to:\n",
      "- Read content from it\n",
      "- Write new content\n",
      "- Add more lines\n",
      "- Delete it\n",
      "\n",
      "# Step-by-Step Learning Path:\n",
      "\n",
      "## What is a file?\n",
      "1. How to open a file\n",
      "2. How to read content\n",
      "3. How to write/append\n",
      "4. How to use with statement\n",
      "5. How to handle errors\n",
      "6. How to delete files\n"
     ]
    }
   ],
   "source": [
    "#  Reading to a File\n",
    "file = open(\"notes.txt\",\"r\")\n",
    "content = file.read()\n",
    "print(content)\n",
    "file.close()"
   ]
  },
  {
   "cell_type": "code",
   "execution_count": 12,
   "id": "9cb397cc",
   "metadata": {},
   "outputs": [
    {
     "name": "stdout",
     "output_type": "stream",
     "text": [
      "Hello World\n",
      "Welcome to file handling.\n",
      "\n"
     ]
    }
   ],
   "source": [
    "# Writing to a file\n",
    "file = open(\"notes2.txt\",\"w\")\n",
    "file.write(\"Hello World\\n\")\n",
    "file.write(\"Welcome to file handling.\\n\")\n",
    "file.close()\n",
    "\n",
    "file = open(\"notes2.txt\",\"r\").read()\n",
    "print(file)\n"
   ]
  },
  {
   "cell_type": "markdown",
   "id": "46bb6a7b",
   "metadata": {},
   "source": [
    "### Try writing a file named myfile.txt with the following content:\n",
    "\n",
    "```kotlin\n",
    "Learning Python\n",
    "File handling is fun\n",
    "```"
   ]
  },
  {
   "cell_type": "code",
   "execution_count": 8,
   "id": "c4a318c3",
   "metadata": {},
   "outputs": [
    {
     "name": "stdout",
     "output_type": "stream",
     "text": [
      "Successfully Written into file!...\n"
     ]
    }
   ],
   "source": [
    "try:\n",
    "    file = open(\"myfile.md\",\"w\")\n",
    "    file.write(\"1. Learning Python\\n\")\n",
    "    file.write(\"2. File handling `is fun`\")\n",
    "    file.close()\n",
    "    print(\"Successfully Written into file!...\")\n",
    "except FileNotFoundError:\n",
    "    print(\"Error: The file 'myfile.md' was not found.\")\n",
    "except Exception as e:\n",
    "    print(f\"An error occurred: {e}\")\n",
    "    "
   ]
  },
  {
   "cell_type": "code",
   "execution_count": 14,
   "id": "a0d450ab",
   "metadata": {},
   "outputs": [
    {
     "name": "stdout",
     "output_type": "stream",
     "text": [
      "# What is File Handling?\n",
      "\n"
     ]
    }
   ],
   "source": [
    "## Read First Line only or Read Line-By-Line not at once\n",
    "\n",
    "file = open(\"notes.txt\",\"r\")\n",
    "print(file.readline())\n",
    "file.close()\n"
   ]
  },
  {
   "cell_type": "code",
   "execution_count": null,
   "id": "ea295cfc",
   "metadata": {},
   "outputs": [
    {
     "name": "stdout",
     "output_type": "stream",
     "text": [
      "# What is File Handling?\n",
      "- It means opening, reading, writing, appending, or deleting files using Python.\n",
      "- You use it when you want your program to store data permanently, like in .txt, .csv, .json, etc.\n",
      "\n",
      "# You can use Python to:\n",
      "- Read content from it\n",
      "- Write new content\n",
      "- Add more lines\n",
      "- Delete it\n",
      "\n",
      "# Step-by-Step Learning Path:\n",
      "\n",
      "## What is a file?\n",
      "1. How to open a file\n",
      "2. How to read content\n",
      "3. How to write/append\n",
      "4. How to use with statement\n",
      "5. How to handle errors\n",
      "6. How to delete files\n"
     ]
    }
   ],
   "source": [
    "##  read all lines one-by-one using a loop\n",
    "\n",
    "file = open(\"notes.txt\",\"r\")\n",
    "for line in file:\n",
    "    print(line.strip())\n",
    "file.close()\n",
    "\n",
    "## strip() is used to remove the \\n newline at the end of each line."
   ]
  },
  {
   "cell_type": "markdown",
   "id": "75633606",
   "metadata": {},
   "source": [
    "## Task Time Again:\n",
    "- Write code to:\n",
    "1. Open `myfile.txt`\n",
    "2. Read all lines using a for loop\n",
    "3. Print each line without extra newlines"
   ]
  },
  {
   "cell_type": "code",
   "execution_count": 17,
   "id": "e4101b08",
   "metadata": {},
   "outputs": [
    {
     "name": "stdout",
     "output_type": "stream",
     "text": [
      "1. Learning Python\n",
      "2. File handling `is fun`\n"
     ]
    }
   ],
   "source": [
    "try:\n",
    "    file = open(\"myfile.md\",\"r\")\n",
    "    for line in file:\n",
    "        print(line.strip())\n",
    "    file.close()\n",
    "except FileNotFoundError:\n",
    "    print(\"Error: The file 'myfile.md' was not found.\")\n",
    "except Exception as e:\n",
    "    print(f\"An error occurred: {e}\")"
   ]
  },
  {
   "cell_type": "markdown",
   "id": "e2ade922",
   "metadata": {},
   "source": [
    "## Append Mode\n",
    "- `Append mode (a)` — used to add more lines to an existing file without deleting old content."
   ]
  },
  {
   "cell_type": "code",
   "execution_count": 22,
   "id": "1f4a2294",
   "metadata": {},
   "outputs": [
    {
     "name": "stdout",
     "output_type": "stream",
     "text": [
      "Successfully Appened\n",
      "\n"
     ]
    }
   ],
   "source": [
    "try:\n",
    "    file = open(\"myfile.md\",\"a\")\n",
    "    file.write(\"\\n3. Let's learn appending\")\n",
    "    file.close()\n",
    "    print(\"Successfully Appened\\n\")\n",
    "except FileExistsError:\n",
    "    print(\"Error: The file 'myfile.md' was not found.\")\n",
    "except Exception as e:\n",
    "    print(f\"An error occurred: {e}\")"
   ]
  },
  {
   "cell_type": "markdown",
   "id": "55bb29e6",
   "metadata": {},
   "source": [
    "## `with` Statement\n",
    "- Using with is a safer, cleaner way to handle files — Python auto-closes it even if errors occur."
   ]
  },
  {
   "cell_type": "code",
   "execution_count": 28,
   "id": "46c7a7d0",
   "metadata": {},
   "outputs": [
    {
     "name": "stdout",
     "output_type": "stream",
     "text": [
      "1. Learning Python\n",
      "2. File handling `is fun`\n",
      "3. Let's learn appending\n",
      "4. Appending with with 😉\n"
     ]
    }
   ],
   "source": [
    "# Reading to a File \n",
    "with open(\"myfile.md\",\"r\") as f:\n",
    "    for line in f:\n",
    "        print(line.strip())"
   ]
  },
  {
   "cell_type": "code",
   "execution_count": 27,
   "id": "29e2d493",
   "metadata": {},
   "outputs": [],
   "source": [
    "# Writing to a file\n",
    "with open(\"myfile.md\", \"a\") as f:\n",
    "    f.write(\"\\n4. Appending with with 😉\")"
   ]
  },
  {
   "cell_type": "markdown",
   "id": "b08640bf",
   "metadata": {},
   "source": [
    "## Final Task For This Round:\n",
    "\n",
    "Use `with` to:\n",
    "1. Append the line → \"5. Done with basics!\"\n",
    "2. Read and print all lines"
   ]
  },
  {
   "cell_type": "code",
   "execution_count": 30,
   "id": "98e72791",
   "metadata": {},
   "outputs": [
    {
     "name": "stdout",
     "output_type": "stream",
     "text": [
      "1. Learning Python\n",
      "2. File handling `is fun`\n",
      "3. Let's learn appending\n",
      "4. Appending with with 😉\n",
      "5. Done with basics!\n"
     ]
    }
   ],
   "source": [
    "with open(\"myfile.md\",\"a\") as f:\n",
    "    f.write(\"\\n5. Done with basics!\")\n",
    "    \n",
    "with open(\"myfile.md\",\"r\") as f:\n",
    "    for line in f: \n",
    "        print(line.strip())"
   ]
  }
 ],
 "metadata": {
  "kernelspec": {
   "display_name": "Python 3",
   "language": "python",
   "name": "python3"
  },
  "language_info": {
   "codemirror_mode": {
    "name": "ipython",
    "version": 3
   },
   "file_extension": ".py",
   "mimetype": "text/x-python",
   "name": "python",
   "nbconvert_exporter": "python",
   "pygments_lexer": "ipython3",
   "version": "3.12.1"
  }
 },
 "nbformat": 4,
 "nbformat_minor": 5
}
