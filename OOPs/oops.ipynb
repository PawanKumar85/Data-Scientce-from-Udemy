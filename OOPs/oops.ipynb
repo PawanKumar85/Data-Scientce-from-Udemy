{
 "cells": [
  {
   "cell_type": "markdown",
   "id": "ec976070",
   "metadata": {},
   "source": [
    "# Module 1: Introduction to OOP Concepts\n",
    "\n",
    "**What is OOP?**\n",
    "Object-Oriented Programming (OOP) is a programming paradigm based on the concept of \"objects\", which can contain data (attributes) and code (methods).\n",
    "\n",
    "Four Pillars of OOP:\n",
    "1. **Encapsulation** – Bundling data and methods inside a class.\n",
    "2. **Abstraction** – Hiding internal details and showing only essential features.\n",
    "3. **Inheritance** – Acquiring properties and behaviors from another class.\n",
    "4. **Polymorphism** – Having many forms (same method name behaving differently)."
   ]
  },
  {
   "cell_type": "markdown",
   "id": "259552ea",
   "metadata": {},
   "source": [
    "# Module 2: Classes and Objects\n",
    "\n",
    "## Class\n",
    "A blueprint for creating objects.\n",
    "\n",
    "## Object\n",
    "An instance of a class."
   ]
  },
  {
   "cell_type": "code",
   "execution_count": 2,
   "id": "adc20ea1",
   "metadata": {},
   "outputs": [
    {
     "name": "stdout",
     "output_type": "stream",
     "text": [
      "Brand: Fortuner, Model: Fortuner\n"
     ]
    }
   ],
   "source": [
    "class Car:\n",
    "    def __init__(self,brand,model):\n",
    "        self.brand = model\n",
    "        self.model = model\n",
    "    \n",
    "    def show_details(self):\n",
    "        print(f\"Brand: {self.brand}, Model: {self.model}\")\n",
    "        \n",
    "car = Car(\"Toyota\", \"Fortuner\")\n",
    "car.show_details()"
   ]
  },
  {
   "cell_type": "markdown",
   "id": "ba51e490",
   "metadata": {},
   "source": [
    "## TASK\n",
    "\n",
    "1. Create a class called `Student` with:\n",
    "- `name`, `age`, `grade` as attributes.\n",
    "- a method `print_info()` to display the student details.\n",
    "\n",
    "2. Create 2 student objects and call `print_info()` on them."
   ]
  },
  {
   "cell_type": "code",
   "execution_count": 7,
   "id": "810eaa3c",
   "metadata": {},
   "outputs": [
    {
     "name": "stdout",
     "output_type": "stream",
     "text": [
      "Name : Pawan\n",
      "Age : 23\n",
      "Grade : A\n",
      "\n",
      "Name : Nishu\n",
      "Age : 20\n",
      "Grade : A\n",
      "\n"
     ]
    }
   ],
   "source": [
    "class Student:\n",
    "    def __init__(self,name,age,grade):\n",
    "        self.name = name\n",
    "        self.age = age\n",
    "        self.grade = grade\n",
    "        \n",
    "    def print_info(self):\n",
    "        print(f\"Name : {self.name}\\nAge : {self.age}\\nGrade : {self.grade}\\n\")\n",
    "    \n",
    "\n",
    "student1 = Student(\"Pawan\",23,\"A\")\n",
    "student2 = Student(\"Nishu\",20,\"A\")\n",
    "\n",
    "student1.print_info()\n",
    "student2.print_info()\n",
    "        "
   ]
  },
  {
   "cell_type": "markdown",
   "id": "fe8d04b3",
   "metadata": {},
   "source": [
    "## Module 3: Encapsulation – Data Hiding & Protection\n",
    "\n",
    "**What is Encapsulation?**\n",
    "Encapsulation means *wrapping data (variables)* and *methods (functions)* into a single unit, i.e., a class.\n",
    "It also allows data hiding by making variables private or protected so they can't be accessed directly.\n",
    "\n",
    "| Modifier  | Syntax        | Access Level                           |\n",
    "| --------- | ------------- | -------------------------------------- |\n",
    "| Public    | `self.name`   | Accessible from anywhere               |\n",
    "| Protected | `self._name`  | Meant for internal use (convention)    |\n",
    "| Private   | `self.__name` | Not accessible directly (name mangled) |\n"
   ]
  },
  {
   "cell_type": "code",
   "execution_count": null,
   "id": "345199a0",
   "metadata": {},
   "outputs": [
    {
     "name": "stdout",
     "output_type": "stream",
     "text": [
      "6500\n"
     ]
    }
   ],
   "source": [
    "class BankAccount:\n",
    "    def __init__(self,owner,balance = 0):\n",
    "        self.owner = owner          # Public\n",
    "        self.__balance = balance    # Private\n",
    "    \n",
    "    # Seter\n",
    "    def deposit(self,balance):\n",
    "        self.__balance += balance\n",
    "    \n",
    "    # Geter\n",
    "    def get_balance(self):\n",
    "        return self.__balance\n",
    "    \n",
    "acc = BankAccount(\"John\", 5000)\n",
    "acc.deposit(1500)\n",
    "print(acc.get_balance())\n",
    "# print(acc.__balance)  "
   ]
  },
  {
   "cell_type": "markdown",
   "id": "ae44fab5",
   "metadata": {},
   "source": [
    "## Your Task:\n",
    "1. Create a class Employee with:\n",
    "- `Public` attribute: name\n",
    "- `Private` attribute: __salary\n",
    "- Method `set_salary(amount)` to update salary\n",
    "- Method `get_salary()` to access it\n",
    "\n",
    "2. Create an object, set the salary, and print the name + salary properly."
   ]
  },
  {
   "cell_type": "code",
   "execution_count": 18,
   "id": "b70dec5c",
   "metadata": {},
   "outputs": [
    {
     "name": "stdout",
     "output_type": "stream",
     "text": [
      "Name : Pawan\n",
      "Salary : 10000\n",
      "\n"
     ]
    }
   ],
   "source": [
    "class Employee:\n",
    "    def __init__(self,name,salary):\n",
    "        self.name = name\n",
    "        self.__salary = salary\n",
    "    \n",
    "    def set_salary(self,salary):\n",
    "        self.__salary += salary\n",
    "    \n",
    "    def get_salary(self):\n",
    "        return f\"Name : {self.name}\\nSalary : {self.__salary}\\n\"\n",
    "    \n",
    "emp1 = Employee(\"Pawan\",0)\n",
    "emp1.set_salary(10000)\n",
    "print(emp1.get_salary())"
   ]
  },
  {
   "cell_type": "markdown",
   "id": "ed2031c0",
   "metadata": {},
   "source": [
    "## Module 4: Inheritance – Reusing Code\n",
    "\n",
    "**What is Inheritance?**\n",
    "Inheritance lets one class acquire properties and methods of another class.\n",
    "It promotes code reusability and a clean hierarchy.\n",
    "\n",
    "| Type         | Description                                   |\n",
    "| ------------ | --------------------------------------------- |\n",
    "| Single       | One child inherits from one parent            |\n",
    "| Multi-level  | A class inherits from a child class           |\n",
    "| Multiple     | A class inherits from multiple parent classes |\n",
    "| Hierarchical | Multiple classes inherit from one parent      |\n"
   ]
  },
  {
   "cell_type": "markdown",
   "id": "dc7bc4c9",
   "metadata": {},
   "source": [
    "## Single Inheritance"
   ]
  },
  {
   "cell_type": "code",
   "execution_count": 21,
   "id": "a7391056",
   "metadata": {},
   "outputs": [
    {
     "name": "stdout",
     "output_type": "stream",
     "text": [
      "I'm Animal\n",
      "Woof! Woof!\n"
     ]
    }
   ],
   "source": [
    "class Animal:\n",
    "    def speak(self):\n",
    "        print(\"I'm Animal\")\n",
    "\n",
    "class Dog(Animal):\n",
    "    def bark(self):\n",
    "        print(\"Woof! Woof!\")\n",
    "        \n",
    "dog = Dog()\n",
    "dog.speak()\n",
    "dog.bark()"
   ]
  },
  {
   "cell_type": "markdown",
   "id": "d4cdb692",
   "metadata": {},
   "source": [
    "## Your Task:\n",
    "1. Create a base class Person with:\n",
    "* Attributes: name, age\n",
    "* Method: show_info()\n",
    "\n",
    "2. Create a derived class Employee that:\n",
    "* Inherits from Person\n",
    "* Adds salary attribute\n",
    "* Has a method show_employee() that prints all 3 attributes\n",
    "\n",
    "3. Create an Employee object and call both methods."
   ]
  },
  {
   "cell_type": "code",
   "execution_count": 22,
   "id": "a1df4dea",
   "metadata": {},
   "outputs": [
    {
     "name": "stdout",
     "output_type": "stream",
     "text": [
      "Name : Pawan\n",
      "Age : 23\n",
      "Salary: 15000\n"
     ]
    }
   ],
   "source": [
    "class Person:  # Base Class\n",
    "    def __init__(self,name,age):\n",
    "        self.name = name\n",
    "        self.age = age\n",
    "    \n",
    "    def show_info(self):\n",
    "        print(f\"Name : {self.name}\\nAge : {self.age}\")\n",
    "\n",
    "class Employee(Person):\n",
    "    def __init__(self,name,age,salary):\n",
    "        super().__init__(name,age)\n",
    "        self.salary = salary\n",
    "        \n",
    "    def show_employee(self):\n",
    "        super().show_info()\n",
    "        print(f\"Salary: {self.salary}\")\n",
    "        \n",
    "        \n",
    "emp = Employee(\"Pawan\",23,15000)\n",
    "emp.show_employee()\n"
   ]
  },
  {
   "cell_type": "markdown",
   "id": "1beac79d",
   "metadata": {},
   "source": [
    "## Multi-Level Inheritance\n",
    "🔹 Child inherits from a Parent, and then becomes Parent to another class.\n",
    "\n",
    "*Multilevel Inheritance in object-oriented programming is a type of inheritance where a class is derived from another class, which is itself derived from another class, forming a chain of inheritance. In this hierarchy, a subclass inherits properties and methods from its immediate parent class, which in turn inherits from its own parent class, and so on.*"
   ]
  },
  {
   "cell_type": "code",
   "execution_count": null,
   "id": "8789ec51",
   "metadata": {},
   "outputs": [
    {
     "name": "stdout",
     "output_type": "stream",
     "text": [
      "Name : Pawan\n",
      "Age : 23\n",
      "Salary : 15000\n"
     ]
    }
   ],
   "source": [
    "class A:\n",
    "    def __init__(self,name):\n",
    "        self.name = name\n",
    "    \n",
    "    def get_info(self):\n",
    "        print(f\"Name : {self.name}\")\n",
    "        \n",
    "class B(A):\n",
    "    def __init__(self,name,age):\n",
    "        super().__init__(name)\n",
    "        self.age = age\n",
    "        \n",
    "    def get_info(self):\n",
    "        super().get_info()\n",
    "        print(f\"Age : {self.age}\")\n",
    "        \n",
    "class C(B):\n",
    "    def __init__(self,name,age,salary):\n",
    "        super().__init__(name,age)\n",
    "        self.salary = salary\n",
    "    \n",
    "    def get_info(self):\n",
    "        super().get_info()\n",
    "        print(f\"Salary : {self.salary}\")\n",
    "        \n",
    "\n",
    "emp = C(\"Pawan\",23,15000)\n",
    "emp.get_info()"
   ]
  },
  {
   "cell_type": "markdown",
   "id": "5b96a6e2",
   "metadata": {},
   "source": [
    "## Multiple Inheritance\n",
    "\n",
    "*Multiple Inheritance* is a type of inheritance in object-oriented programming where a class inherits properties and methods from more than one parent class simultaneously."
   ]
  },
  {
   "cell_type": "code",
   "execution_count": null,
   "id": "33ef8051",
   "metadata": {},
   "outputs": [
    {
     "name": "stdout",
     "output_type": "stream",
     "text": [
      "Paap ko bhul gya...\n",
      "Beta mai teri maa hu..!!\n",
      "I'm Son\n"
     ]
    }
   ],
   "source": [
    "class Father:\n",
    "    def __init__(self):\n",
    "        print(\"Baap ko bhul gya...\")\n",
    "\n",
    "class Mother:\n",
    "    def __init__(self):\n",
    "        print(\"Beta mai teri maa hu..!!\")\n",
    "        \n",
    "class Son(Father,Mother):\n",
    "    def __init__(self):\n",
    "        Father.__init__(self)\n",
    "        Mother.__init__(self)\n",
    "        print(\"I'm Son\")\n",
    "        \n",
    "son = Son()"
   ]
  },
  {
   "cell_type": "markdown",
   "id": "8c514b69",
   "metadata": {},
   "source": [
    "## Hierarchical Inheritance\n",
    "\n",
    "*Hierarchical Inheritance is a type of inheritance in object-oriented programming where multiple child classes inherit from a single parent class, forming a tree-like structure. Each child class inherits the properties and methods of the common parent class but can also define its own unique attributes and behaviors.*"
   ]
  },
  {
   "cell_type": "code",
   "execution_count": null,
   "id": "61539c10",
   "metadata": {},
   "outputs": [
    {
     "name": "stdout",
     "output_type": "stream",
     "text": [
      "Baap hu tera...!!\n",
      "Beta No.1\n",
      "\n",
      "Baap hu tera...!!\n",
      "Beta Nakara....\n",
      "\n"
     ]
    }
   ],
   "source": [
    "class Father:\n",
    "    def __init__(self):\n",
    "        print(\"Baap hu tera...!!\")\n",
    "    \n",
    "class Child1(Father):\n",
    "    def __init__(self):\n",
    "        super().__init__()\n",
    "        print(\"Beta No.1\\n\")\n",
    "\n",
    "class Child2(Father):\n",
    "    def __init__(self):\n",
    "        super().__init__()\n",
    "        print(\"Beta Nakara....\\n\")\n",
    "        \n",
    "        \n",
    "baapCallBeta1 = Child1()\n",
    "baapCallBeta2 = Child2()\n"
   ]
  },
  {
   "cell_type": "markdown",
   "id": "dc3bb5e5",
   "metadata": {},
   "source": [
    "## YOUR TASK – \"Inheritance Champion Test\" 🏆\n",
    "\n",
    "Build a system with:\n",
    "### 💼 Classes:\n",
    "1. Person – base class with name & age\n",
    "2. Employee – inherits from Person, adds emp_id\n",
    "3. Developer – inherits from Employee, adds skills\n",
    "4. Trainer – also inherits from Person, adds expertise\n",
    "5. Intern – inherits from both Developer and Trainer, adds duration\n",
    "\n",
    "### 🔧 Your Output should:\n",
    "* Create an Intern object\n",
    "* Show full profile using all inherited methods"
   ]
  },
  {
   "cell_type": "code",
   "execution_count": null,
   "id": "dc6acfa7",
   "metadata": {},
   "outputs": [
    {
     "name": "stdout",
     "output_type": "stream",
     "text": [
      "Name: Pawan, Age: 23\n",
      "Expertise: AI Training\n",
      "Employee ID: 1634\n",
      "Skills: ['python,c++,javascript']\n",
      "Expertise: AI Training\n",
      "Internship Duration: 6 months\n"
     ]
    }
   ],
   "source": [
    "class Person:\n",
    "    def __init__(self, name, age):\n",
    "        self.name = name\n",
    "        self.age = age\n",
    "    \n",
    "    def show_info(self):\n",
    "        print(f\"Name: {self.name}, Age: {self.age}\")\n",
    "\n",
    "class Employee(Person):\n",
    "    def __init__(self, name, age, emp_id):\n",
    "        Person.__init__(self, name, age) \n",
    "        self.emp_id = emp_id\n",
    "    \n",
    "    def show_info(self):\n",
    "        super().show_info()\n",
    "        print(f\"Employee ID: {self.emp_id}\")\n",
    "\n",
    "class Developer(Employee):\n",
    "    def __init__(self, name, age, emp_id, skill):\n",
    "        Employee.__init__(self, name, age, emp_id)  \n",
    "        self.skill = []  \n",
    "        self.skill.append(skill)  \n",
    "    \n",
    "    def show_info(self):\n",
    "        super().show_info()\n",
    "        print(f\"Skills: {self.skill}\")\n",
    "\n",
    "class Trainer(Person):\n",
    "    def __init__(self, name, age, expertise):\n",
    "        Person.__init__(self, name, age)  \n",
    "        self.expertise = expertise\n",
    "    \n",
    "    def show_info(self):\n",
    "        super().show_info()\n",
    "        print(f\"Expertise: {self.expertise}\")\n",
    "\n",
    "class Intern(Developer, Trainer):\n",
    "    def __init__(self, name, age, emp_id, skill, expertise, duration):\n",
    "        Developer.__init__(self, name, age, emp_id, skill) \n",
    "        Trainer.__init__(self, name, age, expertise)  \n",
    "        self.duration = duration\n",
    "    \n",
    "    def show_info(self):\n",
    "        Developer.show_info(self)  \n",
    "        print(f\"Expertise: {self.expertise}\")  \n",
    "        print(f\"Internship Duration: {self.duration}\")\n",
    "\n",
    "\n",
    "intern = Intern(\"Pawan\", 23, 1634, \"python,c++,javascript\", \"AI Training\", \"6 months\")\n",
    "intern.show_info()"
   ]
  },
  {
   "cell_type": "markdown",
   "id": "2192536e",
   "metadata": {},
   "source": [
    "## The Diamond Problem\n",
    "\n",
    "      A\n",
    "     / \\\n",
    "    B   C\n",
    "     \\ /\n",
    "      D\n",
    "\n",
    "* Class B and C inherit from A\n",
    "* Class D inherits from both B and C\n",
    "\n",
    "Now the confusion:\n",
    "- If A has a method show(), and D calls it, which path will Python choose — via B or via C?"
   ]
  },
  {
   "cell_type": "code",
   "execution_count": 47,
   "id": "37d3e465",
   "metadata": {},
   "outputs": [
    {
     "name": "stdout",
     "output_type": "stream",
     "text": [
      "D\n",
      "class B\n",
      "class C\n",
      "class A\n"
     ]
    }
   ],
   "source": [
    "class A:\n",
    "    def show(self):\n",
    "        print(\"class A\")\n",
    "\n",
    "class B(A):\n",
    "    def show(self):\n",
    "        print(\"class B\")\n",
    "        super().show()\n",
    "\n",
    "class C(A):\n",
    "    def show(self):\n",
    "        print(\"class C\")\n",
    "        super().show()\n",
    "    \n",
    "class D(B,C):\n",
    "    def show(self):\n",
    "        print(\"D\")\n",
    "        super().show()\n",
    "    \n",
    "D = D()\n",
    "\n",
    "# Python reads from left to right, so B is prioritized over C.\n",
    "D.show()\n"
   ]
  },
  {
   "cell_type": "markdown",
   "id": "a2f0fdcc",
   "metadata": {},
   "source": [
    "## 💎 Diamond Task\n",
    "\n",
    "*The Family Legacy*\n",
    "###  Build this structure:\n",
    "```bash\n",
    "        Person\n",
    "       /      \\\n",
    "Father     Mother\n",
    "       \\      /\n",
    "        Child\n",
    "```"
   ]
  },
  {
   "cell_type": "code",
   "execution_count": 49,
   "id": "da576225",
   "metadata": {},
   "outputs": [
    {
     "name": "stdout",
     "output_type": "stream",
     "text": [
      "I am the child.\n",
      "I am the father.\n",
      "I am the mother.\n",
      "I am a person.\n"
     ]
    }
   ],
   "source": [
    "class Person:\n",
    "    def show(self):\n",
    "        print(\"I am a person.\")\n",
    "\n",
    "class Father(Person):\n",
    "    def show(self):\n",
    "        print(\"I am the father.\")\n",
    "        super().show()\n",
    "\n",
    "class Mother(Person):\n",
    "    def show(self):\n",
    "        print(\"I am the mother.\")\n",
    "        super().show()\n",
    "\n",
    "class Child(Father,Mother):\n",
    "    def show(self):\n",
    "        print(\"I am the child.\")\n",
    "        super().show()\n",
    "        \n",
    "    \n",
    "c = Child()\n",
    "c.show()"
   ]
  },
  {
   "cell_type": "markdown",
   "id": "0f15b57e",
   "metadata": {},
   "source": [
    "##  Polymorphism \n",
    "\n",
    "**What is Polymorphism?**\n",
    "Poly = many, Morph = forms\n",
    "It means using the same method name with different behaviors depending on the object.\n",
    "\n",
    "### Types of Polymorphism\n",
    "1. Duck Typing (Dynamic Polymorphism)\n",
    "2.  Method Overriding (Inheritance-based Polymorphism)"
   ]
  },
  {
   "cell_type": "code",
   "execution_count": null,
   "id": "89d03b1d",
   "metadata": {},
   "outputs": [
    {
     "name": "stdout",
     "output_type": "stream",
     "text": [
      "Wouf\n",
      "Meow\n"
     ]
    }
   ],
   "source": [
    "## Duck Typing\n",
    "\n",
    "class Cat:\n",
    "    def sound(self):\n",
    "        print(\"Meow\")\n",
    "\n",
    "class Dog:\n",
    "    def sound(self):\n",
    "        print(\"Wouf\")\n",
    "        \n",
    "def make_sound(animal):\n",
    "    animal.sound()\n",
    "    \n",
    "make_sound(Dog())\n",
    "make_sound(Cat())"
   ]
  },
  {
   "cell_type": "code",
   "execution_count": 53,
   "id": "92b1c4bd",
   "metadata": {},
   "outputs": [
    {
     "name": "stdout",
     "output_type": "stream",
     "text": [
      "Area of circle = πr²\n",
      "Area of square = side²\n"
     ]
    }
   ],
   "source": [
    "## Method Overriding (Inheritance-based Polymorphism)\n",
    "\n",
    "class Shape:\n",
    "    def area(self):\n",
    "        print(\"Area of Shape\")\n",
    "\n",
    "class Circle:\n",
    "    def area(self):\n",
    "        print(\"Area of circle = πr²\")\n",
    "        \n",
    "class Square(Shape):\n",
    "    def area(self):\n",
    "        print(\"Area of square = side²\")\n",
    "        \n",
    "shapes = [Circle(), Square()]\n",
    "for s in shapes:\n",
    "    s.area()\n"
   ]
  },
  {
   "cell_type": "code",
   "execution_count": null,
   "id": "147bde2b",
   "metadata": {},
   "outputs": [
    {
     "name": "stdout",
     "output_type": "stream",
     "text": [
      "Class B\n"
     ]
    }
   ],
   "source": [
    "## Task\n",
    "\n",
    "class Vehicle:\n",
    "    def start(self):\n",
    "        print(\"Starting vehicle...\")\n",
    "        \n",
    "class Bike(Vehicle):\n",
    "    def start(self):\n",
    "        print(\"Starting bike engine...\")\n",
    "        \n",
    "class Car(Vehicle):\n",
    "    def start(self):\n",
    "        print(\"Starting car engine...\")\n",
    "        \n",
    "class Truck(Vehicle):\n",
    "    def start(self):\n",
    "        print(\"Starting Truck engine...\")\n",
    "        \n",
    "vehicles = [Bike(),Car(),Truck()]\n",
    "\n",
    "for vehicle in vehicles:\n",
    "    vehicle.start()"
   ]
  }
 ],
 "metadata": {
  "kernelspec": {
   "display_name": "Python 3",
   "language": "python",
   "name": "python3"
  },
  "language_info": {
   "codemirror_mode": {
    "name": "ipython",
    "version": 3
   },
   "file_extension": ".py",
   "mimetype": "text/x-python",
   "name": "python",
   "nbconvert_exporter": "python",
   "pygments_lexer": "ipython3",
   "version": "3.12.1"
  }
 },
 "nbformat": 4,
 "nbformat_minor": 5
}
